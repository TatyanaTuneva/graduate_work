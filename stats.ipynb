{
 "cells": [
  {
   "cell_type": "code",
   "execution_count": 1,
   "outputs": [],
   "source": [
    "import pandas as pd\n",
    "\n",
    "import matplotlib.pyplot as plt\n",
    "\n",
    "from tensorflow import keras\n",
    "from keras.preprocessing.text import Tokenizer\n",
    "\n",
    "import pickle\n",
    "import numpy"
   ],
   "metadata": {
    "collapsed": false,
    "pycharm": {
     "name": "#%%\n"
    }
   }
  },
  {
   "cell_type": "code",
   "execution_count": 5,
   "outputs": [],
   "source": [
    "with open('tokenizer.pickle', 'rb') as handle:\n",
    "    tokenizer = pickle.load(handle)"
   ],
   "metadata": {
    "collapsed": false,
    "pycharm": {
     "name": "#%%\n"
    }
   }
  },
  {
   "cell_type": "code",
   "execution_count": 21,
   "outputs": [],
   "source": [
    "stats = pd.read_csv('stats.csv')\n",
    "stats.drop('Unnamed: 0', inplace=True, axis=1)"
   ],
   "metadata": {
    "collapsed": false,
    "pycharm": {
     "name": "#%%\n"
    }
   }
  },
  {
   "cell_type": "code",
   "execution_count": 76,
   "outputs": [
    {
     "data": {
      "text/plain": "        0    1    2    3    4    5    6    7    8    9  ...  9991  9992  9993  \\\n0     0.0  1.0  0.0  4.0  0.0  0.0  0.0  1.0  0.0  2.0  ...   1.0   1.0   1.0   \n1     0.0  1.0  3.0  0.0  1.0  1.0  0.0  1.0  2.0  2.0  ...   0.0   0.0   0.0   \n2     0.0  4.0  0.0  0.0  0.0  0.0  0.0  2.0  0.0  3.0  ...   0.0   0.0   0.0   \n3     0.0  2.0  0.0  0.0  0.0  0.0  0.0  2.0  0.0  0.0  ...   0.0   0.0   0.0   \n4     0.0  3.0  0.0  6.0  1.0  2.0  0.0  1.0  0.0  2.0  ...   0.0   0.0   0.0   \n...   ...  ...  ...  ...  ...  ...  ...  ...  ...  ...  ...   ...   ...   ...   \n2957  0.0  0.0  0.0  7.0  0.0  0.0  0.0  0.0  1.0  6.0  ...   0.0   0.0   0.0   \n2958  0.0  0.0  2.0  0.0  0.0  0.0  0.0  0.0  0.0  1.0  ...   0.0   0.0   0.0   \n2959  0.0  1.0  1.0  1.0  0.0  0.0  0.0  0.0  0.0  0.0  ...   0.0   0.0   0.0   \n2960  0.0  0.0  0.0  0.0  0.0  0.0  0.0  0.0  2.0  3.0  ...   0.0   0.0   0.0   \n2961  0.0  2.0  0.0  0.0  0.0  0.0  0.0  0.0  1.0  0.0  ...   0.0   0.0   0.0   \n\n      9994  9995  9996  9997  9998  9999  class  \n0      0.0   0.0   0.0   0.0   0.0   0.0      0  \n1      1.0   1.0   1.0   0.0   0.0   0.0      0  \n2      0.0   0.0   0.0   0.0   0.0   0.0      0  \n3      0.0   0.0   0.0   1.0   0.0   0.0      0  \n4      0.0   0.0   0.0   0.0   2.0   1.0      0  \n...    ...   ...   ...   ...   ...   ...    ...  \n2957   0.0   0.0   0.0   0.0   0.0   0.0      3  \n2958   0.0   0.0   0.0   0.0   0.0   0.0      3  \n2959   0.0   0.0   0.0   0.0   0.0   0.0      3  \n2960   0.0   0.0   0.0   0.0   0.0   0.0      3  \n2961   0.0   0.0   0.0   0.0   0.0   0.0      3  \n\n[2962 rows x 10001 columns]",
      "text/html": "<div>\n<style scoped>\n    .dataframe tbody tr th:only-of-type {\n        vertical-align: middle;\n    }\n\n    .dataframe tbody tr th {\n        vertical-align: top;\n    }\n\n    .dataframe thead th {\n        text-align: right;\n    }\n</style>\n<table border=\"1\" class=\"dataframe\">\n  <thead>\n    <tr style=\"text-align: right;\">\n      <th></th>\n      <th>0</th>\n      <th>1</th>\n      <th>2</th>\n      <th>3</th>\n      <th>4</th>\n      <th>5</th>\n      <th>6</th>\n      <th>7</th>\n      <th>8</th>\n      <th>9</th>\n      <th>...</th>\n      <th>9991</th>\n      <th>9992</th>\n      <th>9993</th>\n      <th>9994</th>\n      <th>9995</th>\n      <th>9996</th>\n      <th>9997</th>\n      <th>9998</th>\n      <th>9999</th>\n      <th>class</th>\n    </tr>\n  </thead>\n  <tbody>\n    <tr>\n      <th>0</th>\n      <td>0.0</td>\n      <td>1.0</td>\n      <td>0.0</td>\n      <td>4.0</td>\n      <td>0.0</td>\n      <td>0.0</td>\n      <td>0.0</td>\n      <td>1.0</td>\n      <td>0.0</td>\n      <td>2.0</td>\n      <td>...</td>\n      <td>1.0</td>\n      <td>1.0</td>\n      <td>1.0</td>\n      <td>0.0</td>\n      <td>0.0</td>\n      <td>0.0</td>\n      <td>0.0</td>\n      <td>0.0</td>\n      <td>0.0</td>\n      <td>0</td>\n    </tr>\n    <tr>\n      <th>1</th>\n      <td>0.0</td>\n      <td>1.0</td>\n      <td>3.0</td>\n      <td>0.0</td>\n      <td>1.0</td>\n      <td>1.0</td>\n      <td>0.0</td>\n      <td>1.0</td>\n      <td>2.0</td>\n      <td>2.0</td>\n      <td>...</td>\n      <td>0.0</td>\n      <td>0.0</td>\n      <td>0.0</td>\n      <td>1.0</td>\n      <td>1.0</td>\n      <td>1.0</td>\n      <td>0.0</td>\n      <td>0.0</td>\n      <td>0.0</td>\n      <td>0</td>\n    </tr>\n    <tr>\n      <th>2</th>\n      <td>0.0</td>\n      <td>4.0</td>\n      <td>0.0</td>\n      <td>0.0</td>\n      <td>0.0</td>\n      <td>0.0</td>\n      <td>0.0</td>\n      <td>2.0</td>\n      <td>0.0</td>\n      <td>3.0</td>\n      <td>...</td>\n      <td>0.0</td>\n      <td>0.0</td>\n      <td>0.0</td>\n      <td>0.0</td>\n      <td>0.0</td>\n      <td>0.0</td>\n      <td>0.0</td>\n      <td>0.0</td>\n      <td>0.0</td>\n      <td>0</td>\n    </tr>\n    <tr>\n      <th>3</th>\n      <td>0.0</td>\n      <td>2.0</td>\n      <td>0.0</td>\n      <td>0.0</td>\n      <td>0.0</td>\n      <td>0.0</td>\n      <td>0.0</td>\n      <td>2.0</td>\n      <td>0.0</td>\n      <td>0.0</td>\n      <td>...</td>\n      <td>0.0</td>\n      <td>0.0</td>\n      <td>0.0</td>\n      <td>0.0</td>\n      <td>0.0</td>\n      <td>0.0</td>\n      <td>1.0</td>\n      <td>0.0</td>\n      <td>0.0</td>\n      <td>0</td>\n    </tr>\n    <tr>\n      <th>4</th>\n      <td>0.0</td>\n      <td>3.0</td>\n      <td>0.0</td>\n      <td>6.0</td>\n      <td>1.0</td>\n      <td>2.0</td>\n      <td>0.0</td>\n      <td>1.0</td>\n      <td>0.0</td>\n      <td>2.0</td>\n      <td>...</td>\n      <td>0.0</td>\n      <td>0.0</td>\n      <td>0.0</td>\n      <td>0.0</td>\n      <td>0.0</td>\n      <td>0.0</td>\n      <td>0.0</td>\n      <td>2.0</td>\n      <td>1.0</td>\n      <td>0</td>\n    </tr>\n    <tr>\n      <th>...</th>\n      <td>...</td>\n      <td>...</td>\n      <td>...</td>\n      <td>...</td>\n      <td>...</td>\n      <td>...</td>\n      <td>...</td>\n      <td>...</td>\n      <td>...</td>\n      <td>...</td>\n      <td>...</td>\n      <td>...</td>\n      <td>...</td>\n      <td>...</td>\n      <td>...</td>\n      <td>...</td>\n      <td>...</td>\n      <td>...</td>\n      <td>...</td>\n      <td>...</td>\n      <td>...</td>\n    </tr>\n    <tr>\n      <th>2957</th>\n      <td>0.0</td>\n      <td>0.0</td>\n      <td>0.0</td>\n      <td>7.0</td>\n      <td>0.0</td>\n      <td>0.0</td>\n      <td>0.0</td>\n      <td>0.0</td>\n      <td>1.0</td>\n      <td>6.0</td>\n      <td>...</td>\n      <td>0.0</td>\n      <td>0.0</td>\n      <td>0.0</td>\n      <td>0.0</td>\n      <td>0.0</td>\n      <td>0.0</td>\n      <td>0.0</td>\n      <td>0.0</td>\n      <td>0.0</td>\n      <td>3</td>\n    </tr>\n    <tr>\n      <th>2958</th>\n      <td>0.0</td>\n      <td>0.0</td>\n      <td>2.0</td>\n      <td>0.0</td>\n      <td>0.0</td>\n      <td>0.0</td>\n      <td>0.0</td>\n      <td>0.0</td>\n      <td>0.0</td>\n      <td>1.0</td>\n      <td>...</td>\n      <td>0.0</td>\n      <td>0.0</td>\n      <td>0.0</td>\n      <td>0.0</td>\n      <td>0.0</td>\n      <td>0.0</td>\n      <td>0.0</td>\n      <td>0.0</td>\n      <td>0.0</td>\n      <td>3</td>\n    </tr>\n    <tr>\n      <th>2959</th>\n      <td>0.0</td>\n      <td>1.0</td>\n      <td>1.0</td>\n      <td>1.0</td>\n      <td>0.0</td>\n      <td>0.0</td>\n      <td>0.0</td>\n      <td>0.0</td>\n      <td>0.0</td>\n      <td>0.0</td>\n      <td>...</td>\n      <td>0.0</td>\n      <td>0.0</td>\n      <td>0.0</td>\n      <td>0.0</td>\n      <td>0.0</td>\n      <td>0.0</td>\n      <td>0.0</td>\n      <td>0.0</td>\n      <td>0.0</td>\n      <td>3</td>\n    </tr>\n    <tr>\n      <th>2960</th>\n      <td>0.0</td>\n      <td>0.0</td>\n      <td>0.0</td>\n      <td>0.0</td>\n      <td>0.0</td>\n      <td>0.0</td>\n      <td>0.0</td>\n      <td>0.0</td>\n      <td>2.0</td>\n      <td>3.0</td>\n      <td>...</td>\n      <td>0.0</td>\n      <td>0.0</td>\n      <td>0.0</td>\n      <td>0.0</td>\n      <td>0.0</td>\n      <td>0.0</td>\n      <td>0.0</td>\n      <td>0.0</td>\n      <td>0.0</td>\n      <td>3</td>\n    </tr>\n    <tr>\n      <th>2961</th>\n      <td>0.0</td>\n      <td>2.0</td>\n      <td>0.0</td>\n      <td>0.0</td>\n      <td>0.0</td>\n      <td>0.0</td>\n      <td>0.0</td>\n      <td>0.0</td>\n      <td>1.0</td>\n      <td>0.0</td>\n      <td>...</td>\n      <td>0.0</td>\n      <td>0.0</td>\n      <td>0.0</td>\n      <td>0.0</td>\n      <td>0.0</td>\n      <td>0.0</td>\n      <td>0.0</td>\n      <td>0.0</td>\n      <td>0.0</td>\n      <td>3</td>\n    </tr>\n  </tbody>\n</table>\n<p>2962 rows × 10001 columns</p>\n</div>"
     },
     "execution_count": 76,
     "metadata": {},
     "output_type": "execute_result"
    }
   ],
   "source": [
    "stats"
   ],
   "metadata": {
    "collapsed": false,
    "pycharm": {
     "name": "#%%\n"
    }
   }
  },
  {
   "cell_type": "code",
   "execution_count": 60,
   "outputs": [],
   "source": [
    "word_indexes = pd.Series(tokenizer.word_index).reset_index().rename(columns={'index': 'word', 0: 'index'})\n",
    "word_indexes['index'] = word_indexes['index'].astype(float)"
   ],
   "metadata": {
    "collapsed": false,
    "pycharm": {
     "name": "#%%\n"
    }
   }
  },
  {
   "cell_type": "code",
   "execution_count": 72,
   "outputs": [
    {
     "name": "stderr",
     "output_type": "stream",
     "text": [
      "C:\\Users\\zayse\\AppData\\Local\\Temp\\ipykernel_16888\\2800018563.py:2: SettingWithCopyWarning: \n",
      "A value is trying to be set on a copy of a slice from a DataFrame\n",
      "\n",
      "See the caveats in the documentation: https://pandas.pydata.org/pandas-docs/stable/user_guide/indexing.html#returning-a-view-versus-a-copy\n",
      "  stats_math.drop('class', inplace=True, axis=1)\n"
     ]
    },
    {
     "data": {
      "text/plain": "       index     sum          word\n1        1.0  4898.0           егэ\n3        3.0  3384.0           мем\n7        7.0  2779.0     олимпиада\n11      11.0  1750.0           огэ\n21      21.0  1738.0    математика\n...      ...     ...           ...\n8010  8010.0     0.0  standoffdrop\n8009  8009.0     0.0         лиски\n8008  8008.0     0.0         марат\n8007  8007.0     0.0    xolidayboy\n5000  5000.0     0.0        клинцы\n\n[10000 rows x 3 columns]",
      "text/html": "<div>\n<style scoped>\n    .dataframe tbody tr th:only-of-type {\n        vertical-align: middle;\n    }\n\n    .dataframe tbody tr th {\n        vertical-align: top;\n    }\n\n    .dataframe thead th {\n        text-align: right;\n    }\n</style>\n<table border=\"1\" class=\"dataframe\">\n  <thead>\n    <tr style=\"text-align: right;\">\n      <th></th>\n      <th>index</th>\n      <th>sum</th>\n      <th>word</th>\n    </tr>\n  </thead>\n  <tbody>\n    <tr>\n      <th>1</th>\n      <td>1.0</td>\n      <td>4898.0</td>\n      <td>егэ</td>\n    </tr>\n    <tr>\n      <th>3</th>\n      <td>3.0</td>\n      <td>3384.0</td>\n      <td>мем</td>\n    </tr>\n    <tr>\n      <th>7</th>\n      <td>7.0</td>\n      <td>2779.0</td>\n      <td>олимпиада</td>\n    </tr>\n    <tr>\n      <th>11</th>\n      <td>11.0</td>\n      <td>1750.0</td>\n      <td>огэ</td>\n    </tr>\n    <tr>\n      <th>21</th>\n      <td>21.0</td>\n      <td>1738.0</td>\n      <td>математика</td>\n    </tr>\n    <tr>\n      <th>...</th>\n      <td>...</td>\n      <td>...</td>\n      <td>...</td>\n    </tr>\n    <tr>\n      <th>8010</th>\n      <td>8010.0</td>\n      <td>0.0</td>\n      <td>standoffdrop</td>\n    </tr>\n    <tr>\n      <th>8009</th>\n      <td>8009.0</td>\n      <td>0.0</td>\n      <td>лиски</td>\n    </tr>\n    <tr>\n      <th>8008</th>\n      <td>8008.0</td>\n      <td>0.0</td>\n      <td>марат</td>\n    </tr>\n    <tr>\n      <th>8007</th>\n      <td>8007.0</td>\n      <td>0.0</td>\n      <td>xolidayboy</td>\n    </tr>\n    <tr>\n      <th>5000</th>\n      <td>5000.0</td>\n      <td>0.0</td>\n      <td>клинцы</td>\n    </tr>\n  </tbody>\n</table>\n<p>10000 rows × 3 columns</p>\n</div>"
     },
     "execution_count": 72,
     "metadata": {},
     "output_type": "execute_result"
    }
   ],
   "source": [
    "stats_math = stats.loc[stats['class'] == 0]\n",
    "stats_math.drop('class', inplace=True, axis=1)\n",
    "stats_math = stats_math.sum().reset_index().rename(columns={0: 'sum'})\n",
    "stats_math['index'] = stats_math['index'].astype(float)\n",
    "stats_math = pd.merge(stats_math, word_indexes, how='left', on=['index'])\n",
    "stats_math.sort_values(by='sum', ascending=False)"
   ],
   "metadata": {
    "collapsed": false,
    "pycharm": {
     "name": "#%%\n"
    }
   }
  },
  {
   "cell_type": "code",
   "execution_count": 73,
   "outputs": [
    {
     "name": "stderr",
     "output_type": "stream",
     "text": [
      "C:\\Users\\zayse\\AppData\\Local\\Temp\\ipykernel_16888\\849220076.py:2: SettingWithCopyWarning: \n",
      "A value is trying to be set on a copy of a slice from a DataFrame\n",
      "\n",
      "See the caveats in the documentation: https://pandas.pydata.org/pandas-docs/stable/user_guide/indexing.html#returning-a-view-versus-a-copy\n",
      "  stats_bio.drop('class', inplace=True, axis=1)\n"
     ]
    },
    {
     "data": {
      "text/plain": "       index   sum              word\n172    172.0  19.0         петербург\n259    259.0  11.0             санкт\n322    322.0  10.0               спб\n51      51.0   8.0         искусство\n4        4.0   8.0              язык\n...      ...   ...               ...\n3571  3571.0   0.0          активный\n3572  3572.0   0.0              ooes\n3573  3573.0   0.0  dextromethorphan\n3574  3574.0   0.0           девятый\n9999  9999.0   0.0            police\n\n[10000 rows x 3 columns]",
      "text/html": "<div>\n<style scoped>\n    .dataframe tbody tr th:only-of-type {\n        vertical-align: middle;\n    }\n\n    .dataframe tbody tr th {\n        vertical-align: top;\n    }\n\n    .dataframe thead th {\n        text-align: right;\n    }\n</style>\n<table border=\"1\" class=\"dataframe\">\n  <thead>\n    <tr style=\"text-align: right;\">\n      <th></th>\n      <th>index</th>\n      <th>sum</th>\n      <th>word</th>\n    </tr>\n  </thead>\n  <tbody>\n    <tr>\n      <th>172</th>\n      <td>172.0</td>\n      <td>19.0</td>\n      <td>петербург</td>\n    </tr>\n    <tr>\n      <th>259</th>\n      <td>259.0</td>\n      <td>11.0</td>\n      <td>санкт</td>\n    </tr>\n    <tr>\n      <th>322</th>\n      <td>322.0</td>\n      <td>10.0</td>\n      <td>спб</td>\n    </tr>\n    <tr>\n      <th>51</th>\n      <td>51.0</td>\n      <td>8.0</td>\n      <td>искусство</td>\n    </tr>\n    <tr>\n      <th>4</th>\n      <td>4.0</td>\n      <td>8.0</td>\n      <td>язык</td>\n    </tr>\n    <tr>\n      <th>...</th>\n      <td>...</td>\n      <td>...</td>\n      <td>...</td>\n    </tr>\n    <tr>\n      <th>3571</th>\n      <td>3571.0</td>\n      <td>0.0</td>\n      <td>активный</td>\n    </tr>\n    <tr>\n      <th>3572</th>\n      <td>3572.0</td>\n      <td>0.0</td>\n      <td>ooes</td>\n    </tr>\n    <tr>\n      <th>3573</th>\n      <td>3573.0</td>\n      <td>0.0</td>\n      <td>dextromethorphan</td>\n    </tr>\n    <tr>\n      <th>3574</th>\n      <td>3574.0</td>\n      <td>0.0</td>\n      <td>девятый</td>\n    </tr>\n    <tr>\n      <th>9999</th>\n      <td>9999.0</td>\n      <td>0.0</td>\n      <td>police</td>\n    </tr>\n  </tbody>\n</table>\n<p>10000 rows × 3 columns</p>\n</div>"
     },
     "execution_count": 73,
     "metadata": {},
     "output_type": "execute_result"
    }
   ],
   "source": [
    "stats_bio = stats.loc[stats['class'] == 1]\n",
    "stats_bio.drop('class', inplace=True, axis=1)\n",
    "stats_bio = stats_bio.sum().reset_index().rename(columns={0: 'sum'})\n",
    "stats_bio['index'] = stats_bio['index'].astype(float)\n",
    "stats_bio = pd.merge(stats_bio, word_indexes, how='left', on=['index'])\n",
    "stats_bio.sort_values(by='sum', ascending=False)"
   ],
   "metadata": {
    "collapsed": false,
    "pycharm": {
     "name": "#%%\n"
    }
   }
  },
  {
   "cell_type": "code",
   "execution_count": 74,
   "outputs": [
    {
     "name": "stderr",
     "output_type": "stream",
     "text": [
      "C:\\Users\\zayse\\AppData\\Local\\Temp\\ipykernel_16888\\407781144.py:2: SettingWithCopyWarning: \n",
      "A value is trying to be set on a copy of a slice from a DataFrame\n",
      "\n",
      "See the caveats in the documentation: https://pandas.pydata.org/pandas-docs/stable/user_guide/indexing.html#returning-a-view-versus-a-copy\n",
      "  stats_foreign.drop('class', inplace=True, axis=1)\n"
     ]
    },
    {
     "data": {
      "text/plain": "       index     sum        word\n1        1.0  6208.0         егэ\n2        2.0  4180.0        2022\n4        4.0  3807.0        язык\n5        5.0  3466.0  английский\n6        6.0  2271.0      вебиум\n...      ...     ...         ...\n8666  8666.0     0.0         404\n8667  8667.0     0.0        плюм\n8669  8669.0     0.0         ez4\n8670  8670.0     0.0    memeblog\n9999  9999.0     0.0      police\n\n[10000 rows x 3 columns]",
      "text/html": "<div>\n<style scoped>\n    .dataframe tbody tr th:only-of-type {\n        vertical-align: middle;\n    }\n\n    .dataframe tbody tr th {\n        vertical-align: top;\n    }\n\n    .dataframe thead th {\n        text-align: right;\n    }\n</style>\n<table border=\"1\" class=\"dataframe\">\n  <thead>\n    <tr style=\"text-align: right;\">\n      <th></th>\n      <th>index</th>\n      <th>sum</th>\n      <th>word</th>\n    </tr>\n  </thead>\n  <tbody>\n    <tr>\n      <th>1</th>\n      <td>1.0</td>\n      <td>6208.0</td>\n      <td>егэ</td>\n    </tr>\n    <tr>\n      <th>2</th>\n      <td>2.0</td>\n      <td>4180.0</td>\n      <td>2022</td>\n    </tr>\n    <tr>\n      <th>4</th>\n      <td>4.0</td>\n      <td>3807.0</td>\n      <td>язык</td>\n    </tr>\n    <tr>\n      <th>5</th>\n      <td>5.0</td>\n      <td>3466.0</td>\n      <td>английский</td>\n    </tr>\n    <tr>\n      <th>6</th>\n      <td>6.0</td>\n      <td>2271.0</td>\n      <td>вебиум</td>\n    </tr>\n    <tr>\n      <th>...</th>\n      <td>...</td>\n      <td>...</td>\n      <td>...</td>\n    </tr>\n    <tr>\n      <th>8666</th>\n      <td>8666.0</td>\n      <td>0.0</td>\n      <td>404</td>\n    </tr>\n    <tr>\n      <th>8667</th>\n      <td>8667.0</td>\n      <td>0.0</td>\n      <td>плюм</td>\n    </tr>\n    <tr>\n      <th>8669</th>\n      <td>8669.0</td>\n      <td>0.0</td>\n      <td>ez4</td>\n    </tr>\n    <tr>\n      <th>8670</th>\n      <td>8670.0</td>\n      <td>0.0</td>\n      <td>memeblog</td>\n    </tr>\n    <tr>\n      <th>9999</th>\n      <td>9999.0</td>\n      <td>0.0</td>\n      <td>police</td>\n    </tr>\n  </tbody>\n</table>\n<p>10000 rows × 3 columns</p>\n</div>"
     },
     "execution_count": 74,
     "metadata": {},
     "output_type": "execute_result"
    }
   ],
   "source": [
    "stats_foreign = stats.loc[stats['class'] == 2]\n",
    "stats_foreign.drop('class', inplace=True, axis=1)\n",
    "stats_foreign = stats_foreign.sum().reset_index().rename(columns={0: 'sum'})\n",
    "stats_foreign['index'] = stats_foreign['index'].astype(float)\n",
    "stats_foreign = pd.merge(stats_foreign, word_indexes, how='left', on=['index'])\n",
    "stats_foreign.sort_values(by='sum', ascending=False)"
   ],
   "metadata": {
    "collapsed": false,
    "pycharm": {
     "name": "#%%\n"
    }
   }
  },
  {
   "cell_type": "code",
   "execution_count": 75,
   "outputs": [
    {
     "name": "stderr",
     "output_type": "stream",
     "text": [
      "C:\\Users\\zayse\\AppData\\Local\\Temp\\ipykernel_16888\\2299686978.py:2: SettingWithCopyWarning: \n",
      "A value is trying to be set on a copy of a slice from a DataFrame\n",
      "\n",
      "See the caveats in the documentation: https://pandas.pydata.org/pandas-docs/stable/user_guide/indexing.html#returning-a-view-versus-a-copy\n",
      "  stats_engineer.drop('class', inplace=True, axis=1)\n"
     ]
    },
    {
     "data": {
      "text/plain": "       index     sum       word\n1        1.0  2283.0        егэ\n2        2.0  1917.0       2022\n6        6.0  1105.0     вебиум\n19      19.0   984.0     физика\n3        3.0   928.0        мем\n...      ...     ...        ...\n8302  8302.0     0.0  institute\n8301  8301.0     0.0  пастернак\n8300  8300.0     0.0      орига\n8299  8299.0     0.0      moshi\n9999  9999.0     0.0     police\n\n[10000 rows x 3 columns]",
      "text/html": "<div>\n<style scoped>\n    .dataframe tbody tr th:only-of-type {\n        vertical-align: middle;\n    }\n\n    .dataframe tbody tr th {\n        vertical-align: top;\n    }\n\n    .dataframe thead th {\n        text-align: right;\n    }\n</style>\n<table border=\"1\" class=\"dataframe\">\n  <thead>\n    <tr style=\"text-align: right;\">\n      <th></th>\n      <th>index</th>\n      <th>sum</th>\n      <th>word</th>\n    </tr>\n  </thead>\n  <tbody>\n    <tr>\n      <th>1</th>\n      <td>1.0</td>\n      <td>2283.0</td>\n      <td>егэ</td>\n    </tr>\n    <tr>\n      <th>2</th>\n      <td>2.0</td>\n      <td>1917.0</td>\n      <td>2022</td>\n    </tr>\n    <tr>\n      <th>6</th>\n      <td>6.0</td>\n      <td>1105.0</td>\n      <td>вебиум</td>\n    </tr>\n    <tr>\n      <th>19</th>\n      <td>19.0</td>\n      <td>984.0</td>\n      <td>физика</td>\n    </tr>\n    <tr>\n      <th>3</th>\n      <td>3.0</td>\n      <td>928.0</td>\n      <td>мем</td>\n    </tr>\n    <tr>\n      <th>...</th>\n      <td>...</td>\n      <td>...</td>\n      <td>...</td>\n    </tr>\n    <tr>\n      <th>8302</th>\n      <td>8302.0</td>\n      <td>0.0</td>\n      <td>institute</td>\n    </tr>\n    <tr>\n      <th>8301</th>\n      <td>8301.0</td>\n      <td>0.0</td>\n      <td>пастернак</td>\n    </tr>\n    <tr>\n      <th>8300</th>\n      <td>8300.0</td>\n      <td>0.0</td>\n      <td>орига</td>\n    </tr>\n    <tr>\n      <th>8299</th>\n      <td>8299.0</td>\n      <td>0.0</td>\n      <td>moshi</td>\n    </tr>\n    <tr>\n      <th>9999</th>\n      <td>9999.0</td>\n      <td>0.0</td>\n      <td>police</td>\n    </tr>\n  </tbody>\n</table>\n<p>10000 rows × 3 columns</p>\n</div>"
     },
     "execution_count": 75,
     "metadata": {},
     "output_type": "execute_result"
    }
   ],
   "source": [
    "stats_engineer = stats.loc[stats['class'] == 3]\n",
    "stats_engineer.drop('class', inplace=True, axis=1)\n",
    "stats_engineer = stats_engineer.sum().reset_index().rename(columns={0: 'sum'})\n",
    "stats_engineer['index'] = stats_engineer['index'].astype(float)\n",
    "stats_engineer = pd.merge(stats_engineer, word_indexes, how='left', on=['index'])\n",
    "stats_engineer.sort_values(by='sum', ascending=False)"
   ],
   "metadata": {
    "collapsed": false,
    "pycharm": {
     "name": "#%%\n"
    }
   }
  },
  {
   "cell_type": "code",
   "execution_count": null,
   "outputs": [],
   "source": [],
   "metadata": {
    "collapsed": false,
    "pycharm": {
     "name": "#%%\n"
    }
   }
  }
 ],
 "metadata": {
  "kernelspec": {
   "display_name": "Python 3",
   "language": "python",
   "name": "python3"
  },
  "language_info": {
   "codemirror_mode": {
    "name": "ipython",
    "version": 2
   },
   "file_extension": ".py",
   "mimetype": "text/x-python",
   "name": "python",
   "nbconvert_exporter": "python",
   "pygments_lexer": "ipython2",
   "version": "2.7.6"
  }
 },
 "nbformat": 4,
 "nbformat_minor": 0
}